{
 "cells": [
  {
   "cell_type": "code",
   "execution_count": null,
   "id": "0686b60d-7641-4073-a542-7acabcac6cd6",
   "metadata": {},
   "outputs": [],
   "source": [
    "# Q1: Create a class called BankAccount that has four attributes: bankname, firstname, lastname, and balance."
   ]
  },
  {
   "cell_type": "code",
   "execution_count": 17,
   "id": "ae778aa2-8f43-4e86-9852-3382c6956e32",
   "metadata": {},
   "outputs": [
    {
     "name": "stdout",
     "output_type": "stream",
     "text": [
      "Welcome to Bank Of Jamaica\n"
     ]
    }
   ],
   "source": [
    "print(\"Welcome to Bank Of Jamaica\")\n",
    "\n",
    "import random \n",
    "class Account():\n",
    "    def __init__(self, name, account_number, balance = 0):\n",
    "        self.name = name\n",
    "        self.account_number = account_number\n",
    "        self.balance = balance\n",
    "         \n",
    "    def account_detail(self):\n",
    "        print(\"\\n----------ACCOUNT DETAIL----------\")\n",
    "        print(f\"Account Holder: {self.name.upper()}\")\n",
    "        print(f\"Account Number: {self.account_number}\")\n",
    "        print(f\"Available balance: # {self.balance}\\n\")\n",
    "         \n",
    "    def deposit(self, amount):\n",
    "        self.amount = amount\n",
    "        self.balance = self.balance + self.amount\n",
    "        print(\"Current account balance: $\", self.balance)\n",
    "        print()\n",
    "\n",
    "    def withdraw(self, amount):\n",
    "        self.amount = amount\n",
    "        if self.amount > self.balance:\n",
    "            print(\"Insufficient fund!\")\n",
    "            print(f\"Your balance is $ {self.balance} only.\")\n",
    "            print(\"Try with lesser amount than balance.\")\n",
    "            print()\n",
    "        else:\n",
    "            self.balance = self.balance - self.amount\n",
    "            print(f\"${amount} withdrawal successful!\")\n",
    "            print(\"Current account balance: $\", self.balance)\n",
    "            print()\n",
    "\n",
    "    def check_balance(self):\n",
    "        print(\"Available balance: $\", self.balance)\n",
    "        print()\n",
    "\n",
    "    def transaction(self):\n",
    "        print(\"\"\"\n",
    "            TRANSACTION\n",
    "        *********************\n",
    "            Menu:\n",
    "            1. Account Detail\n",
    "            2. Check Balance\n",
    "            3. Deposit\n",
    "            4. Withdraw\n",
    "            5. Exit\n",
    "        *********************\n",
    "        \"\"\")\n",
    "        \n",
    "        while True:\n",
    "            try:\n",
    "                option = int(input(\"Enter 1, 2, 3, 4 or 5:\"))\n",
    "            except:\n",
    "                print(\"Error: Enter 1, 2, 3, 4, or 5 only!\\n\")\n",
    "                continue\n",
    "            else:\n",
    "                if option == 1:\n",
    "                    atm.account_detail()\n",
    "                elif option == 2:\n",
    "                    atm.check_balance()\n",
    "                elif option == 3:\n",
    "                    amount = int(input(\"How much you want to deposit($):\"))\n",
    "                    atm.deposit(amount)\n",
    "                elif option == 4:\n",
    "                    amount = int(input(\"How much you want to withdraw($):\"))\n",
    "                    atm.withdraw(amount)\n",
    "                elif option == 5:\n",
    "                    print(f\"\"\"\n",
    "                printing receipt..............\n",
    "          ******************************************\n",
    "              Transaction is now complete. \n",
    "              Transaction number: {random.randint(0, 1000000)}\n",
    "              Account holder: {self.name.upper()}                 \n",
    "              Account number: {self.account_number}               \n",
    "              Available balance: ${self.balance}                   \n",
    "\n",
    "              Thanks for choosing us as your bank                 \n",
    "          ******************************************\n",
    "          \"\"\")"
   ]
  },
  {
   "cell_type": "code",
   "execution_count": null,
   "id": "bcd03d0e-2f52-4e0c-938c-ad6e63f916fb",
   "metadata": {},
   "outputs": [
    {
     "name": "stdout",
     "output_type": "stream",
     "text": [
      "**WELCOME TO BANK OF JAMAICA**\n",
      "___________________________________________________________\n",
      "\n",
      "----------ACCOUNT CREATION----------\n"
     ]
    },
    {
     "name": "stdin",
     "output_type": "stream",
     "text": [
      "Enter your name:  Mecca Marshall\n",
      "Enter your account number:  94214321627\n"
     ]
    },
    {
     "name": "stdout",
     "output_type": "stream",
     "text": [
      " Account created successfully......\n",
      "\n"
     ]
    },
    {
     "name": "stdin",
     "output_type": "stream",
     "text": [
      "Do you want to do any transaction?(y/n): y\n"
     ]
    },
    {
     "name": "stdout",
     "output_type": "stream",
     "text": [
      "\n",
      "            TRANSACTION\n",
      "        *********************\n",
      "            Menu:\n",
      "            1. Account Detail\n",
      "            2. Check Balance\n",
      "            3. Deposit\n",
      "            4. Withdraw\n",
      "            5. Exit\n",
      "        *********************\n",
      "        \n"
     ]
    },
    {
     "name": "stdin",
     "output_type": "stream",
     "text": [
      "Enter 1, 2, 3, 4 or 5: 1\n"
     ]
    },
    {
     "name": "stdout",
     "output_type": "stream",
     "text": [
      "\n",
      "----------ACCOUNT DETAIL----------\n",
      "Account Holder: MECCA MARSHALL\n",
      "Account Number: 94214321627\n",
      "Available balance: # 0\n",
      "\n"
     ]
    },
    {
     "name": "stdin",
     "output_type": "stream",
     "text": [
      "Enter 1, 2, 3, 4 or 5: 3\n",
      "How much you want to deposit($): 80000\n"
     ]
    },
    {
     "name": "stdout",
     "output_type": "stream",
     "text": [
      "Current account balance: $ 80000\n",
      "\n"
     ]
    },
    {
     "name": "stdin",
     "output_type": "stream",
     "text": [
      "Enter 1, 2, 3, 4 or 5: 4\n",
      "How much you want to withdraw($): 39853\n"
     ]
    },
    {
     "name": "stdout",
     "output_type": "stream",
     "text": [
      "$39853 withdrawal successful!\n",
      "Current account balance: $ 40147\n",
      "\n"
     ]
    },
    {
     "name": "stdin",
     "output_type": "stream",
     "text": [
      "Enter 1, 2, 3, 4 or 5: 3\n",
      "How much you want to deposit($): 6842\n"
     ]
    },
    {
     "name": "stdout",
     "output_type": "stream",
     "text": [
      "Current account balance: $ 46989\n",
      "\n"
     ]
    },
    {
     "name": "stdin",
     "output_type": "stream",
     "text": [
      "Enter 1, 2, 3, 4 or 5: 4\n",
      "How much you want to withdraw($): 600\n"
     ]
    },
    {
     "name": "stdout",
     "output_type": "stream",
     "text": [
      "$600 withdrawal successful!\n",
      "Current account balance: $ 46389\n",
      "\n"
     ]
    },
    {
     "name": "stdin",
     "output_type": "stream",
     "text": [
      "Enter 1, 2, 3, 4 or 5: 5\n"
     ]
    },
    {
     "name": "stdout",
     "output_type": "stream",
     "text": [
      "\n",
      "                printing receipt..............\n",
      "          ******************************************\n",
      "              Transaction is now complete. \n",
      "              Transaction number: 436666\n",
      "              Account holder: MECCA MARSHALL                 \n",
      "              Account number: 94214321627               \n",
      "              Available balance: $46389                   \n",
      "\n",
      "              Thanks for choosing us as your bank                 \n",
      "          ******************************************\n",
      "          \n"
     ]
    }
   ],
   "source": [
    "print(\"**WELCOME TO BANK OF JAMAICA**\")\n",
    "print(\"___________________________________________________________\\n\")\n",
    "print(\"----------ACCOUNT CREATION----------\")\n",
    "name = input(\"Enter your name: \")\n",
    "account_number = input(\"Enter your account number: \")\n",
    "print(\" Account created successfully......\\n\")\n",
    "\n",
    "atm = Account(name, account_number)\n",
    "\n",
    "while True:\n",
    "    trans = input(\"Do you want to do any transaction?(y/n):\")\n",
    "    if trans == \"y\":\n",
    "        atm.transaction()\n",
    "    elif trans == \"n\":\n",
    "        print(\"\"\"\n",
    "    \n",
    "    Thanks for choosing us as your bank \n",
    "                     \n",
    "    \n",
    "        \"\"\")\n",
    "        break\n",
    "    else:\n",
    "        print(\"Wrong command!  Enter 'y' for yes and 'n' for NO.\\n\")\n"
   ]
  },
  {
   "cell_type": "code",
   "execution_count": null,
   "id": "d30f45d7-1b01-4951-8dd5-70559aa6bc51",
   "metadata": {},
   "outputs": [],
   "source": [
    "# Q2: Create a class Box that has attributes length and width that takes values for length and width upon construction (instantiation via the constructor)."
   ]
  },
  {
   "cell_type": "code",
   "execution_count": 9,
   "id": "ff621765-659f-470e-ac16-ef66d8b4f73e",
   "metadata": {},
   "outputs": [],
   "source": [
    "class Box():\n",
    "\n",
    "# constructor __init__ method\n",
    "    def __init__(self, length, width):\n",
    "        self.length = length\n",
    "        self.width = width\n",
    "\n",
    "# render method\n",
    "    def render(self):\n",
    "        for i in range(self.width):\n",
    "            for j in range(self.length):\n",
    "                print(\"*\",end=\"\")\n",
    "            print()\n",
    "\n",
    "# invert method\n",
    "    def invert(self):\n",
    "        self.temp = self.length\n",
    "        self.length = self.width\n",
    "        self.width = self.temp\n",
    "\n",
    "# get_area method\n",
    "    def get_area(self):\n",
    "        area = self.length * self.width\n",
    "        print(\"Area of the box is\",area)\n",
    "\n",
    "# get_perimeter method\n",
    "    def get_perimeter(self):\n",
    "        if self.length == self.width:\n",
    "            perimeter = 4 * self.length\n",
    "        else:\n",
    "            perimeter = 2 * (self.length + self.width)\n",
    "        print(\"Perimeter of the box is\",perimeter)\n",
    "\n",
    "# double method\n",
    "    def double(self):\n",
    "        self.length = 2 * self.length\n",
    "        self.width = 2 * self.width\n",
    "\n",
    "# __eq__ method\n",
    "    def __eq__(self, other):\n",
    "        if isinstance(other, Box):\n",
    "            if other.length == self.length:\n",
    "                if other.width == self.width:\n",
    "                    return True\n",
    "        return False\n",
    "\n",
    "# print_dim method\n",
    "    def print_dim(self):\n",
    "        print(\"Length of the box is\",self.length)\n",
    "        print(\"Width of the box is\",self.width)\n",
    "\n",
    "# get_dim method\n",
    "    def get_dim(self):\n",
    "        dims = (self.length, self.width)\n",
    "        return dims\n",
    "\n",
    "# combine method\n",
    "    def combine(self, l, w):\n",
    "        self.length = self.length + l\n",
    "        self.width = self.width + w\n",
    "\n",
    "\n",
    "# get_hypot method\n",
    "    def get_hypot(self):\n",
    "        import math\n",
    "        diagonal = math.sqrt(self.length**2 + self.width**2)\n",
    "        return diagonal"
   ]
  },
  {
   "cell_type": "code",
   "execution_count": 15,
   "id": "b74a50ab-baa1-447f-859c-c123f27017a1",
   "metadata": {},
   "outputs": [
    {
     "name": "stdout",
     "output_type": "stream",
     "text": [
      "box1:\n",
      "Length of the box is 5\n",
      "Width of the box is 10\n",
      "\n",
      "box2:\n",
      "Length of the box is 3\n",
      "Width of the box is 4\n",
      "\n",
      "box3\n",
      "Length of the box is 5\n",
      "Width of the box is 10\n",
      "\n",
      "Is box1 == box2 ? --> False\n",
      "Is box1 == box3 ? --> True\n",
      "\n",
      "box1 after combining with box3:\n",
      "Length of the box is 10\n",
      "Width of the box is 20\n",
      "\n",
      "box2 after doubling:\n",
      "Length of the box is 6\n",
      "Width of the box is 8\n",
      "\n",
      "box1 after combining with box2:\n",
      "Length of the box is 13\n",
      "Width of the box is 24\n",
      "\n",
      "Dimensions of box2:\n",
      "6\n",
      "8\n",
      "\n",
      "Diagonal of box2 is 10.0\n"
     ]
    }
   ],
   "source": [
    "# question2 function\n",
    "def question2x():\n",
    "\n",
    "# Instantiate 3 boxes of dimensions 5,10 , 3,4 and 5,10 and assign to variables box1, box2 and box3 respectively\n",
    "    box1 = Box(5,10)\n",
    "    box2 = Box(3,4)\n",
    "    box3 = Box(5,10)\n",
    "\n",
    "# Print dimension info for each using print_dim()\n",
    "    print(\"box1:\")\n",
    "    box1.print_dim()\n",
    "    print(\"\\nbox2:\")\n",
    "    box2.print_dim()\n",
    "    print(\"\\nbox3\")\n",
    "    box3.print_dim()\n",
    "    print()\n",
    "\n",
    "#  Evaluate if box1 == box2, and also evaluate if box1 == box3, print True or False to the screen accordingly\n",
    "    print(\"Is box1 == box2 ? -->\",box1 == box2)\n",
    "    print(\"Is box1 == box3 ? -->\",box1 == box3)\n",
    "\n",
    "# Combine box3 into box1 (i.e. box1.combine())\n",
    "    box1.combine(5,10)\n",
    "    print(\"\\nbox1 after combining with box3:\")\n",
    "    box1.print_dim()\n",
    "\n",
    "# Double the size of box2\n",
    "    box2.double()\n",
    "    print(\"\\nbox2 after doubling:\")\n",
    "    box2.print_dim()\n",
    "\n",
    "    # Combine box2 into box1\n",
    "    box1.combine(3,4)\n",
    "    print(\"\\nbox1 after combining with box2:\")\n",
    "    box1.print_dim()\n",
    "\n",
    "# Using a for loop, iterate through and print the tuple received from calling box2's get_dim()\n",
    "    box2_tuple = box2.get_dim()\n",
    "    print(\"\\nDimensions of box2:\")\n",
    "    for dim in box2_tuple:\n",
    "        print(dim)\n",
    "\n",
    "# Find the size of the diagonal of box2\n",
    "    print(\"\\nDiagonal of box2 is\",box2.get_hypot())\n",
    "\n",
    "\n",
    "\n",
    "\n",
    "# main\n",
    "# calling the function\n",
    "question2()"
   ]
  }
 ],
 "metadata": {
  "kernelspec": {
   "display_name": "anaconda-panel-2023.05-py310",
   "language": "python",
   "name": "conda-env-anaconda-panel-2023.05-py310-py"
  },
  "language_info": {
   "codemirror_mode": {
    "name": "ipython",
    "version": 3
   },
   "file_extension": ".py",
   "mimetype": "text/x-python",
   "name": "python",
   "nbconvert_exporter": "python",
   "pygments_lexer": "ipython3",
   "version": "3.11.4"
  }
 },
 "nbformat": 4,
 "nbformat_minor": 5
}
