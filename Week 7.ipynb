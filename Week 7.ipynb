# Shamecca Marshall
# Data 602 - Assignment 2
# Understanding Python Native Data Structures
# 1. Can you debug and fix the output? The code should return the entire list
numbers = ['1', '2', '3', '4', '5']
