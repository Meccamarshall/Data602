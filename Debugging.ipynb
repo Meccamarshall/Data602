{
 "cells": [
  {
   "cell_type": "code",
   "execution_count": 2,
   "id": "e2ed2c9e-a624-4425-9f6f-98060b676895",
   "metadata": {},
   "outputs": [],
   "source": [
    "#Q1 Fix all the syntax and logical errors in the given source code \n",
    "#add comments to explain your reasoning"
   ]
  },
  {
   "cell_type": "code",
   "execution_count": 6,
   "id": "4782303a-ddf1-49fd-805c-2401a1727ff8",
   "metadata": {},
   "outputs": [],
   "source": [
    "# This program gets three test scores and displays their average.  It congratulates the user if the \n",
    "# average is a high score. The high score variable holds the value that is considered a high score."
   ]
  },
  {
   "cell_type": "code",
   "execution_count": 83,
   "id": "ce45ecaa-da0b-4474-8f60-8eb591e3310a",
   "metadata": {},
   "outputs": [
    {
     "name": "stdin",
     "output_type": "stream",
     "text": [
      "Enter the score for HighScore:  95\n"
     ]
    }
   ],
   "source": [
    "HighScore = input('Enter the score for HighScore: ')"
   ]
  },
  {
   "cell_type": "code",
   "execution_count": 12,
   "id": "5129bf12-1b92-4bcb-8552-7914c91c5b4e",
   "metadata": {},
   "outputs": [],
   "source": [
    "# Get the test scores."
   ]
  },
  {
   "cell_type": "code",
   "execution_count": 20,
   "id": "dc6d4629-75d7-4297-b92d-02da43b5afcb",
   "metadata": {},
   "outputs": [
    {
     "name": "stdin",
     "output_type": "stream",
     "text": [
      "Enter the score for test 1:  72\n"
     ]
    }
   ],
   "source": [
    "test1 = input('Enter the score for test 1: ')"
   ]
  },
  {
   "cell_type": "code",
   "execution_count": 26,
   "id": "6ff98bd6-c3aa-41d2-a956-3f426d89157f",
   "metadata": {},
   "outputs": [
    {
     "name": "stdin",
     "output_type": "stream",
     "text": [
      "Enter the score for test 2:  89\n"
     ]
    }
   ],
   "source": [
    "test2 = input('Enter the score for test 2: ')"
   ]
  },
  {
   "cell_type": "code",
   "execution_count": 30,
   "id": "19cf30cc-c7b9-4621-9228-83a032689956",
   "metadata": {},
   "outputs": [],
   "source": [
    "# Calculate the average test score."
   ]
  },
  {
   "cell_type": "code",
   "execution_count": 89,
   "id": "f4f4d83f-b761-4a7b-8d5d-7ae691f554bb",
   "metadata": {},
   "outputs": [],
   "source": [
    "test1 = int(test1)\n",
    "test2 = int(test2)\n",
    "HighScore = int(HighScore)"
   ]
  },
  {
   "cell_type": "code",
   "execution_count": 91,
   "id": "da6605e2-df97-4240-ac6a-92ad23ba00fd",
   "metadata": {},
   "outputs": [],
   "source": [
    "average = (test1 + test2 + HighScore) / 3"
   ]
  },
  {
   "cell_type": "code",
   "execution_count": 69,
   "id": "f707ea04-df6c-4921-b1bc-fda6a5870c05",
   "metadata": {},
   "outputs": [],
   "source": [
    "# Print the average."
   ]
  },
  {
   "cell_type": "code",
   "execution_count": 93,
   "id": "b10d634f-9424-4436-a9e1-496ce2df2556",
   "metadata": {},
   "outputs": [
    {
     "name": "stdout",
     "output_type": "stream",
     "text": [
      "The average score is 85.33333333333333\n"
     ]
    }
   ],
   "source": [
    "print('The average score is', average)"
   ]
  },
  {
   "cell_type": "code",
   "execution_count": 73,
   "id": "9b089b4e-bc0a-4ef4-a791-e9dcacaac1b6",
   "metadata": {},
   "outputs": [],
   "source": [
    "# If the average is a high score,\n",
    "# congratulate the user."
   ]
  },
  {
   "cell_type": "code",
   "execution_count": 103,
   "id": "f208045e-d602-45e0-b545-bc99b3269e83",
   "metadata": {},
   "outputs": [
    {
     "name": "stdout",
     "output_type": "stream",
     "text": [
      "Congratulations!\n",
      "That is a great average!\n"
     ]
    }
   ],
   "source": [
    "if average >= HighScore: 95\n",
    "print('Congratulations!')\n",
    "print('That is a great average!')"
   ]
  },
  {
   "cell_type": "code",
   "execution_count": 105,
   "id": "de0f927b-a1cb-46b4-a9fe-39386ec997e9",
   "metadata": {},
   "outputs": [],
   "source": [
    "#Q2\n",
    "#The area of a rectangle is the rectangle’s length times its width. Write a program that asks for the length and width of two rectangles and prints to the user the area of both rectangles. "
   ]
  },
  {
   "cell_type": "code",
   "execution_count": 111,
   "id": "d11ee851-552f-46fc-ac59-d24e6fe8dd02",
   "metadata": {},
   "outputs": [
    {
     "name": "stdin",
     "output_type": "stream",
     "text": [
      "Enter the score for length1:  42\n"
     ]
    }
   ],
   "source": [
    "length1 = input('Enter the score for length1: ')"
   ]
  },
  {
   "cell_type": "code",
   "execution_count": 113,
   "id": "5914cc98-bebe-47c6-bf35-ab1e93ff29cd",
   "metadata": {},
   "outputs": [
    {
     "name": "stdin",
     "output_type": "stream",
     "text": [
      "Enter the score for width1:  19\n"
     ]
    }
   ],
   "source": [
    "width1 = input('Enter the score for width1: ')"
   ]
  },
  {
   "cell_type": "code",
   "execution_count": 117,
   "id": "ec410d16-8a4f-4b0d-8513-f9b70284c79c",
   "metadata": {},
   "outputs": [
    {
     "name": "stdin",
     "output_type": "stream",
     "text": [
      "Enter the score for length2:  90\n"
     ]
    }
   ],
   "source": [
    "length2 = input('Enter the score for length2: ')"
   ]
  },
  {
   "cell_type": "code",
   "execution_count": 126,
   "id": "3e8507fc-2daf-44b3-af28-3a44c486261b",
   "metadata": {},
   "outputs": [
    {
     "name": "stdin",
     "output_type": "stream",
     "text": [
      "Enter the score for width2:  55\n"
     ]
    }
   ],
   "source": [
    "width2 = input('Enter the score for width2: ')"
   ]
  },
  {
   "cell_type": "code",
   "execution_count": 128,
   "id": "60c23342-c99a-4e16-a753-1e1260ecc64a",
   "metadata": {},
   "outputs": [],
   "source": [
    "# Calculate the area of a retangle"
   ]
  },
  {
   "cell_type": "code",
   "execution_count": 130,
   "id": "3fe21bc1-67dc-4422-8446-a5bdbd21ac38",
   "metadata": {},
   "outputs": [],
   "source": [
    "length1 = int(length1)\n",
    "width1 = int(width1)\n",
    "length2 = int(length2)\n",
    "width2 = int(width2)"
   ]
  },
  {
   "cell_type": "code",
   "execution_count": 134,
   "id": "f1d5f3a7-e269-4425-9422-6f95b036ac18",
   "metadata": {},
   "outputs": [],
   "source": [
    "area1 = length1 * width1"
   ]
  },
  {
   "cell_type": "code",
   "execution_count": 136,
   "id": "497aa601-534c-421e-9f97-9b9aa7a578f8",
   "metadata": {},
   "outputs": [
    {
     "name": "stdout",
     "output_type": "stream",
     "text": [
      "798\n"
     ]
    }
   ],
   "source": [
    "print(area1)"
   ]
  },
  {
   "cell_type": "code",
   "execution_count": 154,
   "id": "174417de-e24d-4ad8-bb46-491cbb1e6d2a",
   "metadata": {},
   "outputs": [],
   "source": [
    "area2 = length2 * width2"
   ]
  },
  {
   "cell_type": "code",
   "execution_count": 156,
   "id": "04f34e88-9e5a-47c1-b4ab-e943a708983e",
   "metadata": {},
   "outputs": [
    {
     "name": "stdout",
     "output_type": "stream",
     "text": [
      "4950\n"
     ]
    }
   ],
   "source": [
    "print(area2)"
   ]
  },
  {
   "cell_type": "code",
   "execution_count": 158,
   "id": "16105cb3-a803-495f-9c31-a634ff845612",
   "metadata": {},
   "outputs": [],
   "source": [
    "#Q3 \n",
    "#Ask a user to enter their first name and their age and assign it to the variables name and age. \n",
    "#The variable name should be a string and the variable age should be an int.  "
   ]
  },
  {
   "cell_type": "code",
   "execution_count": 164,
   "id": "9eafe99d-c81f-4da8-8dad-d35a85d86d00",
   "metadata": {},
   "outputs": [],
   "source": [
    "name = 'Shamecca'"
   ]
  },
  {
   "cell_type": "code",
   "execution_count": 166,
   "id": "fbdbec90-438f-4b41-9834-5f12024a5777",
   "metadata": {},
   "outputs": [],
   "source": [
    "age = '29'"
   ]
  },
  {
   "cell_type": "code",
   "execution_count": 176,
   "id": "67d01c5f-3f5c-457d-a670-7c0429b290b9",
   "metadata": {},
   "outputs": [
    {
     "name": "stdout",
     "output_type": "stream",
     "text": [
      "Shamecca is 29 years old \n"
     ]
    }
   ],
   "source": [
    "print (name + ' is ' + age + ' years old ')"
   ]
  },
  {
   "cell_type": "code",
   "execution_count": 178,
   "id": "1f9e5b4a-e346-4535-a97e-d20db4decebd",
   "metadata": {},
   "outputs": [],
   "source": [
    "#Using the variables name and age, print a message to the user stating something along the lines of:\n",
    "# \"Happy birthday, name!  You are age years old today!\""
   ]
  },
  {
   "cell_type": "code",
   "execution_count": 195,
   "id": "fddacd1c-9c73-40ae-a0ec-864ce59ead74",
   "metadata": {},
   "outputs": [],
   "source": [
    "name = 'Shamecca'"
   ]
  },
  {
   "cell_type": "code",
   "execution_count": 199,
   "id": "d9ab1421-a105-4c01-9ce4-8419ef2ce6d1",
   "metadata": {},
   "outputs": [],
   "source": [
    "age = '29'"
   ]
  },
  {
   "cell_type": "code",
   "execution_count": 201,
   "id": "f9b0f89d-c7e0-49d1-8cae-97b8e3775123",
   "metadata": {},
   "outputs": [
    {
     "name": "stdout",
     "output_type": "stream",
     "text": [
      "Happy birthday, Shamecca! You are 29 years old today!\n"
     ]
    }
   ],
   "source": [
    "print(\"Happy birthday, \" + name + \"! You are \" + str(age) + \" years old today!\")"
   ]
  },
  {
   "cell_type": "code",
   "execution_count": null,
   "id": "a5d4b1c9-6912-46a5-8e18-04948046fd17",
   "metadata": {},
   "outputs": [],
   "source": []
  },
  {
   "cell_type": "code",
   "execution_count": null,
   "id": "653ad7cf-a683-4cbd-beb9-36219ac91374",
   "metadata": {},
   "outputs": [],
   "source": []
  }
 ],
 "metadata": {
  "kernelspec": {
   "display_name": "scipy-tutorials-2023",
   "language": "python",
   "name": "conda-env-scipy-tutorials-2023-py"
  },
  "language_info": {
   "codemirror_mode": {
    "name": "ipython",
    "version": 3
   },
   "file_extension": ".py",
   "mimetype": "text/x-python",
   "name": "python",
   "nbconvert_exporter": "python",
   "pygments_lexer": "ipython3",
   "version": "3.10.0"
  }
 },
 "nbformat": 4,
 "nbformat_minor": 5
}
