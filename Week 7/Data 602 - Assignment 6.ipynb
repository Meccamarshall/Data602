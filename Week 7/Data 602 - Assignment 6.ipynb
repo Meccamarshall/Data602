{
 "cells": [
  {
   "cell_type": "code",
   "execution_count": null,
   "id": "0589c72d-0a36-4d1c-bd31-1c7e5b58c396",
   "metadata": {},
   "outputs": [],
   "source": [
    "# . Load your dataset into python using the pandas library and save data into a dataframe named dfi (where i is one of your datasets, for a total of 4)."
   ]
  },
  {
   "cell_type": "code",
   "execution_count": null,
   "id": "63bb87f1-d427-47d0-a744-014df2f3e7ef",
   "metadata": {},
   "outputs": [],
   "source": [
    "# Dataset #1 - NBA Players draft"
   ]
  },
  {
   "cell_type": "code",
   "execution_count": 22,
   "id": "cc434cb8-e227-4fbb-b319-4e75122fd499",
   "metadata": {},
   "outputs": [],
   "source": [
    "# Load your dataset into python using the pandas library and save data into a dataframe named dfi\n",
    "import pandas as pd\n",
    "\n",
    "dfi = pd.read_csv('https://raw.githubusercontent.com/Meccamarshall/Data602/main/Week%207/nbaplayersdraft.csv') "
   ]
  },
  {
   "cell_type": "code",
   "execution_count": 24,
   "id": "8e5220bf-edf3-4276-a6bd-29f3b8b3d3c7",
   "metadata": {},
   "outputs": [
    {
     "name": "stdout",
     "output_type": "stream",
     "text": [
      "        id  year  rank  overall_pick team                player  \\\n",
      "0        1  1989     1             1  SAC        Pervis Ellison   \n",
      "1        2  1989     2             2  LAC           Danny Ferry   \n",
      "2        3  1989     3             3  SAS          Sean Elliott   \n",
      "3        4  1989     4             4  MIA             Glen Rice   \n",
      "4        5  1989     5             5  CHH             J.R. Reid   \n",
      "...    ...   ...   ...           ...  ...                   ...   \n",
      "1917  1918  2021    56            56  CHO         Scottie Lewis   \n",
      "1918  1919  2021    57            57  CHO       Balša Koprivica   \n",
      "1919  1920  2021    58            58  NYK          Jericho Sims   \n",
      "1920  1921  2021    59            59  BRK          RaiQuan Gray   \n",
      "1921  1922  2021    60            60  IND  Georgios Kalaitzakis   \n",
      "\n",
      "            college  years_active   games  minutes_played  ...  \\\n",
      "0        Louisville          11.0   474.0         11593.0  ...   \n",
      "1              Duke          13.0   917.0         18133.0  ...   \n",
      "2           Arizona          12.0   742.0         24502.0  ...   \n",
      "3          Michigan          15.0  1000.0         34985.0  ...   \n",
      "4               UNC          11.0   672.0         15370.0  ...   \n",
      "...             ...           ...     ...             ...  ...   \n",
      "1917        Florida           1.0     2.0             7.0  ...   \n",
      "1918  Florida State           NaN     NaN             NaN  ...   \n",
      "1919          Texas           1.0    41.0           555.0  ...   \n",
      "1920  Florida State           NaN     NaN             NaN  ...   \n",
      "1921            NaN           1.0    13.0           214.0  ...   \n",
      "\n",
      "      3_point_percentage  free_throw_percentage  average_minutes_played  \\\n",
      "0                  0.050                  0.689                    24.5   \n",
      "1                  0.393                  0.840                    19.8   \n",
      "2                  0.375                  0.799                    33.0   \n",
      "3                  0.400                  0.846                    35.0   \n",
      "4                  0.135                  0.716                    22.9   \n",
      "...                  ...                    ...                     ...   \n",
      "1917                 NaN                  0.500                     3.5   \n",
      "1918                 NaN                    NaN                     NaN   \n",
      "1919                 NaN                  0.414                    13.5   \n",
      "1920                 NaN                    NaN                     NaN   \n",
      "1921               0.385                  0.467                    16.5   \n",
      "\n",
      "      points_per_game  average_total_rebounds  average_assists  win_shares  \\\n",
      "0                 9.5                     6.7              1.5        21.8   \n",
      "1                 7.0                     2.8              1.3        34.8   \n",
      "2                14.2                     4.3              2.6        55.7   \n",
      "3                18.3                     4.4              2.1        88.7   \n",
      "4                 8.5                     5.0              1.0        22.5   \n",
      "...               ...                     ...              ...         ...   \n",
      "1917              0.5                     0.0              0.5         0.0   \n",
      "1918              NaN                     NaN              NaN         NaN   \n",
      "1919              2.2                     4.1              0.5         1.5   \n",
      "1920              NaN                     NaN              NaN         NaN   \n",
      "1921              6.6                     1.6              0.9        -0.1   \n",
      "\n",
      "      win_shares_per_48_minutes  box_plus_minus  value_over_replacement  \n",
      "0                         0.090            -0.5                     4.4  \n",
      "1                         0.092            -0.9                     4.9  \n",
      "2                         0.109             0.2                    13.5  \n",
      "3                         0.122             0.8                    24.9  \n",
      "4                         0.070            -2.9                    -3.7  \n",
      "...                         ...             ...                     ...  \n",
      "1917                      0.164             6.0                     0.0  \n",
      "1918                        NaN             NaN                     NaN  \n",
      "1919                      0.128            -1.7                     0.0  \n",
      "1920                        NaN             NaN                     NaN  \n",
      "1921                     -0.024            -7.0                    -0.3  \n",
      "\n",
      "[1922 rows x 24 columns]\n"
     ]
    }
   ],
   "source": [
    "# Q2: Preview your data by calling your dataframe’s name. How many columns and rows do you see?\n",
    "print(dfi)"
   ]
  },
  {
   "cell_type": "code",
   "execution_count": null,
   "id": "e0e107f8-8080-4837-8ecc-5ecb9ce8f887",
   "metadata": {},
   "outputs": [],
   "source": [
    "# There are 1992 rows and 24 colums"
   ]
  },
  {
   "cell_type": "code",
   "execution_count": null,
   "id": "c66db862-52c7-4388-be6c-1de5444d7801",
   "metadata": {},
   "outputs": [],
   "source": [
    "# Q3. Examine the shape of your data using the .shape command and the data types of your columns using .dtypes."
   ]
  },
  {
   "cell_type": "code",
   "execution_count": 46,
   "id": "d4e3adce-3ee2-40e8-b09e-86c967bcd8bb",
   "metadata": {},
   "outputs": [
    {
     "name": "stdout",
     "output_type": "stream",
     "text": [
      "Shape = (1922, 24)\n"
     ]
    }
   ],
   "source": [
    "# Data Shape\n",
    "# importing pandas module\n",
    "import pandas as pd\n",
    " \n",
    "# importing csv file\n",
    "data = pd.read_csv(\"https://raw.githubusercontent.com/Meccamarshall/Data602/main/Week%207/nbaplayersdraft.csv\")\n",
    " \n",
    "# using dataframe.shape\n",
    "shape = data.shape\n",
    " \n",
    "# printing shape\n",
    "print(\"Shape = {}\".format(shape))"
   ]
  },
  {
   "cell_type": "code",
   "execution_count": 54,
   "id": "fd2d5ff7-5d56-449e-a444-95bb858a9944",
   "metadata": {},
   "outputs": [
    {
     "name": "stdout",
     "output_type": "stream",
     "text": [
      "Column Name:  id  |||  Data Type :  int64\n",
      "Column Name:  year  |||  Data Type :  int64\n",
      "Column Name:  rank  |||  Data Type :  int64\n",
      "Column Name:  overall_pick  |||  Data Type :  int64\n",
      "Column Name:  team  |||  Data Type :  object\n",
      "Column Name:  player  |||  Data Type :  object\n",
      "Column Name:  college  |||  Data Type :  object\n",
      "Column Name:  years_active  |||  Data Type :  float64\n",
      "Column Name:  games  |||  Data Type :  float64\n",
      "Column Name:  minutes_played  |||  Data Type :  float64\n",
      "Column Name:  points  |||  Data Type :  float64\n",
      "Column Name:  total_rebounds  |||  Data Type :  float64\n",
      "Column Name:  assists  |||  Data Type :  float64\n",
      "Column Name:  field_goal_percentage  |||  Data Type :  float64\n",
      "Column Name:  3_point_percentage  |||  Data Type :  float64\n",
      "Column Name:  free_throw_percentage  |||  Data Type :  float64\n",
      "Column Name:  average_minutes_played  |||  Data Type :  float64\n",
      "Column Name:  points_per_game  |||  Data Type :  float64\n",
      "Column Name:  average_total_rebounds  |||  Data Type :  float64\n",
      "Column Name:  average_assists  |||  Data Type :  float64\n",
      "Column Name:  win_shares  |||  Data Type :  float64\n",
      "Column Name:  win_shares_per_48_minutes  |||  Data Type :  float64\n",
      "Column Name:  box_plus_minus  |||  Data Type :  float64\n",
      "Column Name:  value_over_replacement  |||  Data Type :  float64\n"
     ]
    },
    {
     "name": "stderr",
     "output_type": "stream",
     "text": [
      "/tmp/ipykernel_129/3948456030.py:4: FutureWarning: iteritems is deprecated and will be removed in a future version. Use .items instead.\n",
      "  for name, dtype in df.dtypes.iteritems():\n"
     ]
    }
   ],
   "source": [
    "# Data Type\n",
    "import pandas as pd\n",
    "dfi = pd.read_csv(\"https://raw.githubusercontent.com/Meccamarshall/Data602/main/Week%207/nbaplayersdraft.csv\")\n",
    "for name, dtype in df.dtypes.iteritems():\n",
    "        print(\"Column Name: \",name,\" ||| \",\"Data Type : \", dtype)"
   ]
  },
  {
   "cell_type": "code",
   "execution_count": null,
   "id": "2871441d-f14d-43d3-a553-916be31b7dee",
   "metadata": {},
   "outputs": [],
   "source": [
    "# Q4. Use .describe() on your data. What do you notice about your data? What does this command return?"
   ]
  },
  {
   "cell_type": "code",
   "execution_count": null,
   "id": "9668f32d-7c41-4388-8074-339ecda06f03",
   "metadata": {},
   "outputs": [],
   "source": []
  },
  {
   "cell_type": "code",
   "execution_count": 62,
   "id": "3649814a-76ac-49d1-8c16-839e5c65871b",
   "metadata": {},
   "outputs": [
    {
     "name": "stdout",
     "output_type": "stream",
     "text": [
      "                id         year         rank  overall_pick  years_active  \\\n",
      "count  1922.000000  1922.000000  1922.000000   1922.000000   1669.000000   \n",
      "mean    961.500000  2005.317378    29.694589     29.694589      6.332534   \n",
      "std     554.977927     9.456946    16.912454     16.912454      4.656321   \n",
      "min       1.000000  1989.000000     1.000000      1.000000      1.000000   \n",
      "25%     481.250000  1997.000000    15.000000     15.000000      2.000000   \n",
      "50%     961.500000  2005.000000    30.000000     30.000000      5.000000   \n",
      "75%    1441.750000  2013.000000    44.000000     44.000000     10.000000   \n",
      "max    1922.000000  2021.000000    60.000000     60.000000     22.000000   \n",
      "\n",
      "             games  minutes_played        points  total_rebounds  \\\n",
      "count  1669.000000     1669.000000   1669.000000     1669.000000   \n",
      "mean    348.042540     8399.055722   3580.413421     1497.009587   \n",
      "std     324.897567     9845.871529   4826.142847     2003.686388   \n",
      "min       1.000000        0.000000      0.000000        0.000000   \n",
      "25%      72.000000      838.000000    265.000000      128.000000   \n",
      "50%     235.000000     4204.000000   1552.000000      656.000000   \n",
      "75%     584.000000    13246.000000   5150.000000     2139.000000   \n",
      "max    1541.000000    52139.000000  37062.000000    15091.000000   \n",
      "\n",
      "            assists  ...  3_point_percentage  free_throw_percentage  \\\n",
      "count   1669.000000  ...         1545.000000            1633.000000   \n",
      "mean     774.300779  ...            0.272405               0.716825   \n",
      "std     1284.602969  ...            0.128339               0.118702   \n",
      "min        0.000000  ...            0.000000               0.000000   \n",
      "25%       46.000000  ...            0.222000               0.659000   \n",
      "50%      257.000000  ...            0.317000               0.736000   \n",
      "75%      910.000000  ...            0.356000               0.797000   \n",
      "max    12091.000000  ...            1.000000               1.000000   \n",
      "\n",
      "       average_minutes_played  points_per_game  average_total_rebounds  \\\n",
      "count             1669.000000      1669.000000             1669.000000   \n",
      "mean                18.134032         7.275734                3.194368   \n",
      "std                  8.707656         4.969343                2.083895   \n",
      "min                  0.000000         0.000000                0.000000   \n",
      "25%                 11.000000         3.400000                1.700000   \n",
      "50%                 17.700000         6.200000                2.800000   \n",
      "75%                 24.800000        10.000000                4.200000   \n",
      "max                 41.100000        27.200000               13.300000   \n",
      "\n",
      "       average_assists   win_shares  win_shares_per_48_minutes  \\\n",
      "count      1669.000000  1669.000000                1668.000000   \n",
      "mean          1.550749    17.873697                   0.061691   \n",
      "std           1.488536    27.989805                   0.094467   \n",
      "min           0.000000    -1.700000                  -1.264000   \n",
      "25%           0.500000     0.400000                   0.030000   \n",
      "50%           1.100000     5.300000                   0.069000   \n",
      "75%           2.100000    24.500000                   0.104000   \n",
      "max           9.500000   249.500000                   1.442000   \n",
      "\n",
      "       box_plus_minus  value_over_replacement  \n",
      "count     1668.000000             1669.000000  \n",
      "mean        -2.311271                4.403176  \n",
      "std          4.143403               11.461729  \n",
      "min        -52.000000               -8.500000  \n",
      "25%         -3.900000               -0.400000  \n",
      "50%         -2.000000                0.000000  \n",
      "75%         -0.300000                4.500000  \n",
      "max         51.100000              142.600000  \n",
      "\n",
      "[8 rows x 21 columns]\n"
     ]
    }
   ],
   "source": [
    "import pandas as pd\n",
    "\n",
    "data = pd.read_csv(\"https://raw.githubusercontent.com/Meccamarshall/Data602/main/Week%207/nbaplayersdraft.csv\")\n",
    "print(data.describe())"
   ]
  },
  {
   "cell_type": "code",
   "execution_count": null,
   "id": "14f909f1-f8e6-4a63-8160-c8c2446b7733",
   "metadata": {},
   "outputs": [],
   "source": [
    "# count: Total Number of Non-Empty values\n",
    "# mean: Mean of the column values\n",
    "# std: Standard Deviation of the column values\n",
    "# min: Minimum value from the column\n",
    "# 25%: 25 percentile\n",
    "# 50%: 50 percentile\n",
    "# 75%: 75 percentile\n",
    "# max: Maximum value from the column"
   ]
  },
  {
   "cell_type": "code",
   "execution_count": null,
   "id": "f7f60cfa-51af-44cc-9d65-f1075bbe9497",
   "metadata": {},
   "outputs": [],
   "source": [
    "# Q5. Use the .head() and .tail() command - what does this do?"
   ]
  },
  {
   "cell_type": "code",
   "execution_count": 68,
   "id": "f8ce8c17-9e7f-4d8b-b373-8df02e1f3d49",
   "metadata": {},
   "outputs": [
    {
     "name": "stdout",
     "output_type": "stream",
     "text": [
      "   id  year  rank  overall_pick team          player     college  \\\n",
      "0   1  1989     1             1  SAC  Pervis Ellison  Louisville   \n",
      "1   2  1989     2             2  LAC     Danny Ferry        Duke   \n",
      "2   3  1989     3             3  SAS    Sean Elliott     Arizona   \n",
      "3   4  1989     4             4  MIA       Glen Rice    Michigan   \n",
      "4   5  1989     5             5  CHH       J.R. Reid         UNC   \n",
      "\n",
      "   years_active   games  minutes_played  ...  3_point_percentage  \\\n",
      "0          11.0   474.0         11593.0  ...               0.050   \n",
      "1          13.0   917.0         18133.0  ...               0.393   \n",
      "2          12.0   742.0         24502.0  ...               0.375   \n",
      "3          15.0  1000.0         34985.0  ...               0.400   \n",
      "4          11.0   672.0         15370.0  ...               0.135   \n",
      "\n",
      "   free_throw_percentage  average_minutes_played  points_per_game  \\\n",
      "0                  0.689                    24.5              9.5   \n",
      "1                  0.840                    19.8              7.0   \n",
      "2                  0.799                    33.0             14.2   \n",
      "3                  0.846                    35.0             18.3   \n",
      "4                  0.716                    22.9              8.5   \n",
      "\n",
      "   average_total_rebounds  average_assists  win_shares  \\\n",
      "0                     6.7              1.5        21.8   \n",
      "1                     2.8              1.3        34.8   \n",
      "2                     4.3              2.6        55.7   \n",
      "3                     4.4              2.1        88.7   \n",
      "4                     5.0              1.0        22.5   \n",
      "\n",
      "   win_shares_per_48_minutes  box_plus_minus  value_over_replacement  \n",
      "0                      0.090            -0.5                     4.4  \n",
      "1                      0.092            -0.9                     4.9  \n",
      "2                      0.109             0.2                    13.5  \n",
      "3                      0.122             0.8                    24.9  \n",
      "4                      0.070            -2.9                    -3.7  \n",
      "\n",
      "[5 rows x 24 columns]\n"
     ]
    }
   ],
   "source": [
    "#Head function\n",
    "import pandas as pd\n",
    "\n",
    "data = pd.read_csv(\"https://raw.githubusercontent.com/Meccamarshall/Data602/main/Week%207/nbaplayersdraft.csv\")\n",
    "print(data.head())"
   ]
  },
  {
   "cell_type": "code",
   "execution_count": null,
   "id": "6442f9da-d676-48b0-9a56-92874c00febf",
   "metadata": {},
   "outputs": [],
   "source": [
    "# The head function displays the first five rows of the dataframe by default. It takes in a single parameter: the number of rows. We can use this parameter to display the number of rows of our choice."
   ]
  },
  {
   "cell_type": "code",
   "execution_count": 70,
   "id": "049a0857-884a-40d4-ba89-e94e7c8aa673",
   "metadata": {},
   "outputs": [
    {
     "name": "stdout",
     "output_type": "stream",
     "text": [
      "        id  year  rank  overall_pick team                player  \\\n",
      "1917  1918  2021    56            56  CHO         Scottie Lewis   \n",
      "1918  1919  2021    57            57  CHO       Balša Koprivica   \n",
      "1919  1920  2021    58            58  NYK          Jericho Sims   \n",
      "1920  1921  2021    59            59  BRK          RaiQuan Gray   \n",
      "1921  1922  2021    60            60  IND  Georgios Kalaitzakis   \n",
      "\n",
      "            college  years_active  games  minutes_played  ...  \\\n",
      "1917        Florida           1.0    2.0             7.0  ...   \n",
      "1918  Florida State           NaN    NaN             NaN  ...   \n",
      "1919          Texas           1.0   41.0           555.0  ...   \n",
      "1920  Florida State           NaN    NaN             NaN  ...   \n",
      "1921            NaN           1.0   13.0           214.0  ...   \n",
      "\n",
      "      3_point_percentage  free_throw_percentage  average_minutes_played  \\\n",
      "1917                 NaN                  0.500                     3.5   \n",
      "1918                 NaN                    NaN                     NaN   \n",
      "1919                 NaN                  0.414                    13.5   \n",
      "1920                 NaN                    NaN                     NaN   \n",
      "1921               0.385                  0.467                    16.5   \n",
      "\n",
      "      points_per_game  average_total_rebounds  average_assists  win_shares  \\\n",
      "1917              0.5                     0.0              0.5         0.0   \n",
      "1918              NaN                     NaN              NaN         NaN   \n",
      "1919              2.2                     4.1              0.5         1.5   \n",
      "1920              NaN                     NaN              NaN         NaN   \n",
      "1921              6.6                     1.6              0.9        -0.1   \n",
      "\n",
      "      win_shares_per_48_minutes  box_plus_minus  value_over_replacement  \n",
      "1917                      0.164             6.0                     0.0  \n",
      "1918                        NaN             NaN                     NaN  \n",
      "1919                      0.128            -1.7                     0.0  \n",
      "1920                        NaN             NaN                     NaN  \n",
      "1921                     -0.024            -7.0                    -0.3  \n",
      "\n",
      "[5 rows x 24 columns]\n"
     ]
    }
   ],
   "source": [
    "#Tail function\n",
    "import pandas as pd\n",
    "\n",
    "data = pd.read_csv(\"https://raw.githubusercontent.com/Meccamarshall/Data602/main/Week%207/nbaplayersdraft.csv\")\n",
    "print(data.tail())"
   ]
  },
  {
   "cell_type": "code",
   "execution_count": null,
   "id": "ec997243-8b5e-49f7-92ca-03d87b05ec1d",
   "metadata": {},
   "outputs": [],
   "source": [
    "# The tail function in Python displays the last five rows of the dataframe by default. It takes in a single parameter: the number of rows. We can use this parameter to display the number of rows of our choice."
   ]
  },
  {
   "cell_type": "code",
   "execution_count": null,
   "id": "de427aa1-1201-4728-9974-14da3a7eb8e7",
   "metadata": {},
   "outputs": [],
   "source": []
  },
  {
   "cell_type": "code",
   "execution_count": null,
   "id": "aa3e61ca-98a4-4b15-9881-d7a91e538717",
   "metadata": {},
   "outputs": [],
   "source": [
    "# Extra Credit #1"
   ]
  },
  {
   "cell_type": "code",
   "execution_count": null,
   "id": "7ddef711-c726-483a-87c6-9bbdf56d54e0",
   "metadata": {},
   "outputs": [],
   "source": [
    "# 1. Choose one of your datasets and remove the header information. (Can delete the row in excel, etc..)"
   ]
  },
  {
   "cell_type": "code",
   "execution_count": 88,
   "id": "2415cd87-8268-45bf-a4c4-b9fc0e2745cb",
   "metadata": {},
   "outputs": [
    {
     "name": "stdout",
     "output_type": "stream",
     "text": [
      "     ORL  1 1.1     9:47            Kobe Bryant makes 4-foot two point shot  H\n",
      "0    ORL  1   1     9:07                          Kobe Bryant misses jumper  M\n",
      "1    ORL  1   1     8:11                   Kobe Bryant misses 7-foot jumper  M\n",
      "2    ORL  1   1     7:41  Kobe Bryant makes 16-foot jumper (Derek Fisher...  H\n",
      "3    ORL  1   1     7:03                    Kobe Bryant makes driving layup  H\n",
      "4    ORL  1   1     6:01                          Kobe Bryant misses jumper  M\n",
      "..   ... ..  ..      ...                                                ... ..\n",
      "127  ORL  3   4     3:33                        Bryant Layup Shot: Missed    M\n",
      "128  ORL  3   4     2:02                          Bryant 3pt Shot: Missed    M\n",
      "129  ORL  3   4  00:23.9                          Bryant 3pt Shot: Missed    M\n",
      "130  ORL  3   4  00:06.9                          Bryant 3pt Shot: Missed    M\n",
      "131  ORL  3   4  00:00.5                 Bryant Layup Shot: Made (31 PTS)    H\n",
      "\n",
      "[132 rows x 6 columns]\n"
     ]
    }
   ],
   "source": [
    "import pandas as pd\n",
    "df = pd.read_csv('https://raw.githubusercontent.com/Meccamarshall/Data602/main/Week%207/kobe.csv', skiprows=[0])\n",
    "print(df)"
   ]
  },
  {
   "cell_type": "code",
   "execution_count": 90,
   "id": "2fed9222-7745-4932-abb7-e88968912aba",
   "metadata": {},
   "outputs": [],
   "source": [
    "# 2. Import the data into your environment using pandas. Display the .head() of your data showing no header information."
   ]
  },
  {
   "cell_type": "code",
   "execution_count": 124,
   "id": "f0395009-61ba-430d-b989-8d632a044035",
   "metadata": {},
   "outputs": [
    {
     "name": "stdout",
     "output_type": "stream",
     "text": [
      "   ORL  1 1.1  9:47            Kobe Bryant makes 4-foot two point shot  H\n",
      "0  ORL  1   1  9:07                          Kobe Bryant misses jumper  M\n",
      "1  ORL  1   1  8:11                   Kobe Bryant misses 7-foot jumper  M\n",
      "2  ORL  1   1  7:41  Kobe Bryant makes 16-foot jumper (Derek Fisher...  H\n",
      "3  ORL  1   1  7:03                    Kobe Bryant makes driving layup  H\n",
      "4  ORL  1   1  6:01                          Kobe Bryant misses jumper  M\n"
     ]
    }
   ],
   "source": [
    "import pandas as pd\n",
    "df = pd.read_csv('https://raw.githubusercontent.com/Meccamarshall/Data602/main/Week%207/kobe.csv', skiprows=[0])\n",
    "print(df.head())"
   ]
  },
  {
   "cell_type": "code",
   "execution_count": 126,
   "id": "5c3cc982-291c-49aa-9d89-fd4f875a6977",
   "metadata": {},
   "outputs": [],
   "source": [
    "# 3. Using pandas, update the dataset to include the header information. Display the updated data using .head()."
   ]
  },
  {
   "cell_type": "code",
   "execution_count": 136,
   "id": "0d0fffc7-0723-4e32-9862-863e55e4e0df",
   "metadata": {},
   "outputs": [
    {
     "name": "stdout",
     "output_type": "stream",
     "text": [
      "    vs  game quarter  time                                        description  \\\n",
      "0  ORL     1       1  9:47            Kobe Bryant makes 4-foot two point shot   \n",
      "1  ORL     1       1  9:07                          Kobe Bryant misses jumper   \n",
      "2  ORL     1       1  8:11                   Kobe Bryant misses 7-foot jumper   \n",
      "3  ORL     1       1  7:41  Kobe Bryant makes 16-foot jumper (Derek Fisher...   \n",
      "4  ORL     1       1  7:03                    Kobe Bryant makes driving layup   \n",
      "\n",
      "  basket  \n",
      "0      H  \n",
      "1      M  \n",
      "2      M  \n",
      "3      H  \n",
      "4      H  \n"
     ]
    }
   ],
   "source": [
    "import pandas as pd\n",
    "data = pd.read_csv('https://raw.githubusercontent.com/Meccamarshall/Data602/main/Week%207/kobe.csv')\n",
    "print(data.head())"
   ]
  },
  {
   "cell_type": "code",
   "execution_count": null,
   "id": "ab3e7da4-87eb-43a1-a30f-cd64fe961b4d",
   "metadata": {},
   "outputs": [],
   "source": []
  },
  {
   "cell_type": "code",
   "execution_count": null,
   "id": "27b24953-281a-4e49-bb66-c0ae9c8dfd9b",
   "metadata": {},
   "outputs": [],
   "source": [
    "# Extra credit # 2"
   ]
  },
  {
   "cell_type": "code",
   "execution_count": null,
   "id": "1bea6966-c233-422e-af04-1d5af94fefba",
   "metadata": {},
   "outputs": [],
   "source": [
    "# 1. Import a “dirty” dataset from the internet into your environment. (Missing values, improper coding of columns, etc.)"
   ]
  },
  {
   "cell_type": "code",
   "execution_count": 138,
   "id": "2f7322bb-d847-4a81-b19d-8aa099fcc54c",
   "metadata": {},
   "outputs": [
    {
     "name": "stdout",
     "output_type": "stream",
     "text": [
      "      overall_pick  year                 team            player former  \\\n",
      "0                1  2022        Atlanta Dream      Rhyne Howard    NaN   \n",
      "1                2  2022        Indiana Fever     NaLyssa Smith    NaN   \n",
      "2                3  2022   Washington Mystics    Shakira Austin    NaN   \n",
      "3                4  2022        Indiana Fever    Emily Engstler    NaN   \n",
      "4                5  2022     New York Liberty     Nyara Sabally    NaN   \n",
      "...            ...   ...                  ...               ...    ...   \n",
      "1059            28  1997          Utah Starzz      Kim Williams    NaN   \n",
      "1060            29  1997    Cleveland Rockers     Anita Maxwell    NaN   \n",
      "1061            30  1997   Los Angeles Sparks      Travesa Gant    NaN   \n",
      "1062            31  1997  Sacramento Monarchs    Tajama Abraham    NaN   \n",
      "1063            32  1997       Houston Comets  Catarina Pollini    NaN   \n",
      "\n",
      "                college  years_played  games  win_shares  win_shares_40  \\\n",
      "0              Kentucky             1   34.0         2.9          0.110   \n",
      "1                Baylor             1   32.0         0.0         -0.001   \n",
      "2              Ole Miss             1   36.0         3.1          0.160   \n",
      "3            Louisville             1   35.0         0.4          0.024   \n",
      "4                Oregon             0    NaN         NaN            NaN   \n",
      "...                 ...           ...    ...         ...            ...   \n",
      "1059             DePaul             2   58.0         0.3          0.010   \n",
      "1060   New Mexico State             1    9.0        -0.1         -0.036   \n",
      "1061              Lamar             1    2.0        -0.1         -0.247   \n",
      "1062  George Washington             2   40.0        -0.8         -0.070   \n",
      "1063              Texas             1   13.0         0.0          0.005   \n",
      "\n",
      "      minutes_played  points  total_rebounds  assists  \n",
      "0               31.4    16.2             4.5      2.8  \n",
      "1               30.7    13.5             7.9      1.4  \n",
      "2               21.6     8.7             6.5      0.9  \n",
      "3               18.2     5.2             5.2      1.5  \n",
      "4                NaN     NaN             NaN      NaN  \n",
      "...              ...     ...             ...      ...  \n",
      "1059            19.8     7.8             2.4      1.8  \n",
      "1060             7.0     2.1             1.3      0.9  \n",
      "1061             6.5     0.0             1.5      0.0  \n",
      "1062            11.7     3.5             1.9      0.3  \n",
      "1063             7.2     1.7             0.9      0.4  \n",
      "\n",
      "[1064 rows x 14 columns]\n"
     ]
    }
   ],
   "source": [
    "import pandas as pd\n",
    "\n",
    "wnba = pd.read_csv('https://raw.githubusercontent.com/Meccamarshall/Data602/main/Week%207/wnbadraft.csv')\n",
    "print(wnba)"
   ]
  },
  {
   "cell_type": "code",
   "execution_count": null,
   "id": "9d348951-3e9a-412f-926c-684ff71a5f01",
   "metadata": {},
   "outputs": [],
   "source": [
    "# 2. Clean or “tidy” the data when loading into python using pandas."
   ]
  },
  {
   "cell_type": "code",
   "execution_count": 140,
   "id": "d3284bc9-b7ac-4a73-87aa-efa8ed28e23b",
   "metadata": {},
   "outputs": [
    {
     "name": "stdout",
     "output_type": "stream",
     "text": [
      "Missing values distribution: \n",
      "overall_pick      0.000000\n",
      "year              0.000000\n",
      "team              0.000000\n",
      "player            0.001880\n",
      "former            0.882519\n",
      "college           0.080827\n",
      "years_played      0.000000\n",
      "games             0.313910\n",
      "win_shares        0.313910\n",
      "win_shares_40     0.314850\n",
      "minutes_played    0.313910\n",
      "points            0.313910\n",
      "total_rebounds    0.313910\n",
      "assists           0.313910\n",
      "dtype: float64\n",
      "\n"
     ]
    }
   ],
   "source": [
    "print(\"Missing values distribution: \")\n",
    "print(wnba.isnull().mean())\n",
    "print(\"\")"
   ]
  },
  {
   "cell_type": "code",
   "execution_count": 144,
   "id": "8e3254f4-d391-4b19-be44-bb3788b7c95a",
   "metadata": {},
   "outputs": [
    {
     "name": "stdout",
     "output_type": "stream",
     "text": [
      "     overall_pick  year                 team                    player                      former                                 college  years_played  games  win_shares  win_shares_40  minutes_played  points  total_rebounds  assists\n",
      "146             3  2018          Chicago Sky         Diamond DeShields           Çukurova (Turkey)                               Tennessee             5  143.0         4.5          0.047            26.8    13.2             4.2      2.2\n",
      "879             2  2000   Washington Mystics              Tausha Mills       Chicago Condors (ABL)                                 Alabama             5   99.0         0.4          0.018             8.8     2.7             2.6      0.2\n",
      "891            14  2000  Sacramento Monarchs              Katy Steding        Portland Power (ABL)                                Stanford             2   55.0         1.1          0.064            12.8     3.5             1.3      0.7\n",
      "897            20  2000      Orlando Miracle             Jannon Roland  New England Blizzard (ABL)                                  Purdue             1   21.0        -0.5         -0.113             8.2     1.6             0.8      0.4\n",
      "902            25  2000        Seattle Storm          Charisse Sampson  New England Blizzard (ABL)                                  Kansas             1   21.0         1.2          0.176            13.3     3.7             2.0      0.5\n",
      "933            56  2000       Minnesota Lynx            Shanele Stires        Columbus Quest (ABL)                            Kansas State             3   48.0         0.1          0.011             7.1     1.9             1.0      0.5\n",
      "943             2  1999  Sacramento Monarchs          Yolanda Griffith       Chicago Condors (ABL)             Florida Atlantic University            11  311.0        59.4          0.265            28.8    13.6             7.9      1.5\n",
      "944             3  1999          Utah Starzz          Natalie Williams        Portland Power (ABL)                                    UCLA             7  221.0        29.3          0.171            31.1    13.1             8.3      1.4\n",
      "945             4  1999   Los Angeles Sparks      DeLisha Milton-Jones        Portland Power (ABL)                                 Florida            17  499.0        37.4          0.104            28.8    11.2             5.2      1.8\n",
      "946             5  1999        Detroit Shock             Jennifer Azzi       San Jose Lasers (ABL)                                Stanford             5  141.0        14.4          0.118            34.7     9.1             2.6      4.5\n",
      "947             6  1999     New York Liberty          Crystal Robinson     Colorado Xplosion (ABL)  Southeastern Oklahoma State University             9  245.0        26.4          0.143            30.1    10.2             2.7      2.0\n",
      "948             7  1999       Minnesota Lynx             Tonya Edwards        Columbus Quest (ABL)                               Tennessee             4  125.0         5.0          0.071            22.7     9.0             2.3      1.7\n",
      "949             8  1999      Orlando Miracle             Tari Phillips     Colorado Xplosion (ABL)                         Central Florida             9  232.0        12.3          0.093            23.0     9.2             5.5      0.9\n",
      "950             9  1999      Charlotte Sting               Dawn Staley     Philadelphia Rage (ABL)                                Virginia             8  263.0        17.7          0.083            32.5     8.5             2.0      5.1\n",
      "951            10  1999      Phoenix Mercury             Edna Campbell     Colorado Xplosion (ABL)                                   Texas             7  161.0         3.6          0.041            21.3     7.1             1.7      1.4\n",
      "952            11  1999    Cleveland Rockers            Chasity Melvin     Philadelphia Rage (ABL)                                NC State            12  393.0        33.9          0.129            26.6     9.7             5.4      1.3\n",
      "954            13  1999   Washington Mystics             Shalonda Enis         Seattle Reign (ABL)                                 Alabama             5  106.0         5.8          0.094            23.2     7.7             4.2      0.8\n",
      "955            14  1999  Sacramento Monarchs        Kedra Holland-Corn       San Jose Lasers (ABL)                                 Georgia             7  223.0        13.1          0.095            24.9     8.7             2.1      1.9\n",
      "956            15  1999          Utah Starzz              Debbie Black     Colorado Xplosion (ABL)                          Saint Joseph's             6  193.0        10.6          0.096            22.8     3.9             2.8      3.2\n",
      "957            16  1999   Los Angeles Sparks      Clarisse Machanguana       San Jose Lasers (ABL)                            Old Dominion             4  118.0         4.5          0.109            14.2     4.1             2.6      0.5\n",
      "958            17  1999        Detroit Shock       Val Whiting-Raymond         Seattle Reign (ABL)                                Stanford             3   63.0         1.3          0.040            20.3     4.8             4.7      1.1\n",
      "961            20  1999      Orlando Miracle                 Sheri Sam       San Jose Lasers (ABL)                              Vanderbilt            10  328.0        20.4          0.088            28.3    10.2             4.1      2.3\n",
      "963            22  1999      Phoenix Mercury  Clarissa Davis-Wrightsil       San Jose Lasers (ABL)                                   Texas             1   14.0         0.7          0.106            18.5     9.3             2.7      1.4\n",
      "965            24  1999       Houston Comets             Sonja Henning        Portland Power (ABL)                                Stanford             5  151.0         4.0          0.043            24.5     3.2             2.3      2.3\n",
      "966            25  1999   Washington Mystics               Andrea Nagy     Philadelphia Rage (ABL)        Florida International University             4  102.0         0.3          0.005            22.2     3.2             1.8      3.5\n",
      "967            26  1999  Sacramento Monarchs             Kate Starbird         Seattle Reign (ABL)                                Stanford             5  112.0         1.5          0.048            11.2     3.3             1.1      0.8\n",
      "968            27  1999          Utah Starzz          Adrienne Goodson       Chicago Condors (ABL)                            Old Dominion             7  221.0        12.1          0.075            29.2    12.2             5.1      2.0\n",
      "972            31  1999       Minnesota Lynx        Andrea Lloyd-Curry        Columbus Quest (ABL)                                   Texas             2   46.0         2.0          0.066            26.8     6.3             3.9      2.5\n",
      "973            32  1999      Orlando Miracle   Taj McWilliams-Franklin     Philadelphia Rage (ABL)                 St. Edward's University            14  440.0        53.9          0.159            30.8    11.4             6.8      2.0\n",
      "974            33  1999      Charlotte Sting           Charlotte Smith       San Jose Lasers (ABL)                                     UNC             8  237.0         7.8          0.056            23.6     6.0             3.4      1.5\n",
      "975            34  1999      Phoenix Mercury             Lisa Harrison        Columbus Quest (ABL)                               Tennessee             6  187.0        10.0          0.088            24.2     6.0             3.6      1.2\n",
      "976            35  1999    Cleveland Rockers           Tracy Henderson       Nashville Noise (ABL)                                 Georgia             3   61.0        -0.9         -0.068             8.6     1.8             2.1      0.2\n",
      "977            36  1999       Houston Comets              Kara Wolters  New England Blizzard (ABL)                                   UConn             4   86.0         3.8          0.118            15.0     6.5             3.2      0.7\n",
      "981            40  1999   Los Angeles Sparks           La'Keshia Frett     Philadelphia Rage (ABL)                                 Georgia             7  201.0         4.2          0.060            13.7     4.0             1.9      0.8\n",
      "982            41  1999        Detroit Shock       Astou Ndiaye-Diatta         Seattle Reign (ABL)            Southern Nazarene University             8  163.0         4.3          0.052            20.4     7.6             4.2      1.0\n",
      "983            42  1999     New York Liberty             Carolyn Young  New England Blizzard (ABL)                                  Auburn             2   42.0         0.4          0.035            11.1     4.6             1.1      0.6\n",
      "984            43  1999       Minnesota Lynx                Sonja Tate        Columbus Quest (ABL)               Arkansas State University             2   40.0         1.1          0.048            23.1     4.3             3.5      2.6\n",
      "985            44  1999      Orlando Miracle              Carla McGhee        Columbus Quest (ABL)                               Tennessee             4   81.0        -0.3         -0.016             8.9     1.9             1.5      0.4\n",
      "989            48  1999       Houston Comets         Jennifer Rizzotti  New England Blizzard (ABL)                                   UConn             5  148.0         4.1          0.070            16.0     3.1             1.4      1.8\n",
      "990            49  1999       Minnesota Lynx            Angie Potthoff        Columbus Quest (ABL)                              Penn State             2   35.0         0.1          0.008            20.5     3.6             2.5      1.1\n",
      "991            50  1999      Orlando Miracle             Elaine Powell        Portland Power (ABL)                                     LSU            10  265.0        10.2          0.071            21.7     5.7             2.5      2.8\n"
     ]
    }
   ],
   "source": [
    "import pandas as pd\n",
    "\n",
    "wnba = pd.read_csv('https://raw.githubusercontent.com/Meccamarshall/Data602/main/Week%207/wnbadraft.csv')\n",
    "\n",
    "wnba.dropna(inplace = True)\n",
    "\n",
    "print(wnba.to_string())"
   ]
  }
 ],
 "metadata": {
  "kernelspec": {
   "display_name": "anaconda-panel-2023.05-py310",
   "language": "python",
   "name": "conda-env-anaconda-panel-2023.05-py310-py"
  },
  "language_info": {
   "codemirror_mode": {
    "name": "ipython",
    "version": 3
   },
   "file_extension": ".py",
   "mimetype": "text/x-python",
   "name": "python",
   "nbconvert_exporter": "python",
   "pygments_lexer": "ipython3",
   "version": "3.11.4"
  }
 },
 "nbformat": 4,
 "nbformat_minor": 5
}
