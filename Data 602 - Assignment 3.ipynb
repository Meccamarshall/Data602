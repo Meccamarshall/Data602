{
 "cells": [
  {
   "cell_type": "code",
   "execution_count": 1,
   "id": "cb600ccd-f7e0-48d5-bee6-b66369fae25c",
   "metadata": {
    "tags": []
   },
   "outputs": [],
   "source": [
    "# Write a program that prompts the user for a meal: breakfast, lunch, or dinner. Then using if statements and else statements print the user a message recommending a meal. For example, if the meal was breakfast, you could say something like, “How about some bacon and eggs?” The user may enter something else in, but you only have to respond to breakfast, lunch, or dinner."
   ]
  },
  {
   "cell_type": "markdown",
   "id": "acd73780-4c4b-4489-9016-16f0036e8dea",
   "metadata": {},
   "source": [
    "meal_choice = input(\"What meal are you planning to have (breakfast, lunch, or dinner)?\")"
   ]
  },
  {
   "cell_type": "code",
   "execution_count": null,
   "id": "5ad2c84e-3336-4b03-9f2b-7249d614ce8b",
   "metadata": {
    "tags": []
   },
   "outputs": [],
   "source": [
    "if meal_choice == \"breakfast\":\n",
    "    print(\"How about some ackee and saltfish?\")"
   ]
  },
  {
   "cell_type": "code",
   "execution_count": null,
   "id": "6fb073e9-e36a-48d0-bed7-b64c47d07336",
   "metadata": {},
   "outputs": [],
   "source": [
    "elif meal_choice == \"lunch\":\n",
    "    print(\"Would you like beef patties or curry chicken.\")"
   ]
  },
  {
   "cell_type": "code",
   "execution_count": null,
   "id": "003caf8b-cb06-43bd-8960-763634046579",
   "metadata": {},
   "outputs": [],
   "source": [
    "elif meal_choice == \"dinner\":\n",
    "    print(\"Consider having some oxtail stew or rasta pasta.\") "
   ]
  },
  {
   "cell_type": "code",
   "execution_count": 3,
   "id": "f3d86c5e-ab29-4a09-b67f-9672db5e8c09",
   "metadata": {},
   "outputs": [],
   "source": [
    "# The mailroom has asked you to design a simple payroll program that calculates a student employee’s gross pay, including any overtime wages. If any employee works over 20 hours in a week, the mailroom pays them 1.5 times their regular hourly pay rate for all hours over 20.  You should take in the user’s input for the number of hours worked, and their rate of pay."
   ]
  },
  {
   "cell_type": "markdown",
   "id": "1a3b080c-f76f-4eac-a59b-d17e5c55afe3",
   "metadata": {},
   "source": [
    "hrs = input(\"Enter Hours:\")"
   ]
  },
  {
   "cell_type": "code",
   "execution_count": null,
   "id": "1a30afbd-1bca-47b1-b6a0-4af5c09f43c5",
   "metadata": {},
   "outputs": [],
   "source": [
    "h = float(hrs)"
   ]
  },
  {
   "cell_type": "code",
   "execution_count": null,
   "id": "debbbdaa-7f96-43dd-b9fb-fc556ded5307",
   "metadata": {},
   "outputs": [],
   "source": [
    "xx = input(\"Enter the Rate:\")"
   ]
  },
  {
   "cell_type": "code",
   "execution_count": null,
   "id": "96a83297-8eff-43e6-8ef1-26e633f63580",
   "metadata": {},
   "outputs": [],
   "source": [
    "x = float(xx)"
   ]
  },
  {
   "cell_type": "code",
   "execution_count": null,
   "id": "17967eeb-7462-4c44-849b-968904a38493",
   "metadata": {},
   "outputs": [],
   "source": [
    "if h <= 20:\n",
    "print( h  * x)"
   ]
  },
  {
   "cell_type": "code",
   "execution_count": null,
   "id": "5e5c880d-5c4b-40c5-8ff3-283be7a88acb",
   "metadata": {},
   "outputs": [],
   "source": [
    "elif h > 20:\n",
    "print(20* x + (h-20)*1.5*x)"
   ]
  },
  {
   "cell_type": "code",
   "execution_count": null,
   "id": "2d5517ae-7a80-4656-abd7-d23166f0578a",
   "metadata": {},
   "outputs": [],
   "source": [
    "# Write a function named times_ten. The function should accept an argument and display the product of its argument multiplied times 10."
   ]
  },
  {
   "cell_type": "code",
   "execution_count": null,
   "id": "17a6dce7-f45f-4536-bbac-01764c5ed313",
   "metadata": {},
   "outputs": [],
   "source": [
    "def times_ten(argument):\n",
    "print(argument*10)\n",
    "times_ten(10)"
   ]
  },
  {
   "cell_type": "code",
   "execution_count": 5,
   "id": "a593da0c-6641-4cf9-a76c-ad59f7dcfc87",
   "metadata": {
    "tags": []
   },
   "outputs": [],
   "source": [
    "# Find the errors, debug the program, and then execute to show the output."
   ]
  },
  {
   "cell_type": "code",
   "execution_count": 9,
   "id": "3e2df64d-5fbd-4a25-89aa-06df5cf113c4",
   "metadata": {
    "tags": []
   },
   "outputs": [
    {
     "name": "stdin",
     "output_type": "stream",
     "text": [
      "How many calories are in the first food?  80\n",
      "How many calories are in the second food?  110\n"
     ]
    },
    {
     "name": "stdout",
     "output_type": "stream",
     "text": [
      "The total calories you ate today 190.00\n"
     ]
    }
   ],
   "source": [
    "def main():\n",
    "  Calories1 = input(\"How many calories are in the first food? \")\n",
    "  Calories2 = input(\"How many calories are in the second food? \")\n",
    "  showCalories(int(Calories1), int(Calories2))\n",
    "\n",
    "def showCalories(Calories1,Calories2):\n",
    "   print(\"The total calories you ate today {:.2f}\".format(Calories1 + Calories2))\n",
    "\n",
    "main()"
   ]
  },
  {
   "cell_type": "code",
   "execution_count": 10,
   "id": "bfa23184-9b72-4bb4-bd3e-86cab2822da7",
   "metadata": {
    "tags": []
   },
   "outputs": [],
   "source": [
    "#  Write a program that uses any loop (while or for) that calculates the total of the following series of numbers:\n",
    "# 1/30 + 2/29 + 3/28 ............. + 30/1\n"
   ]
  },
  {
   "cell_type": "code",
   "execution_count": 11,
   "id": "9ff3d4f5-ba24-46c7-af46-03996e7dd29e",
   "metadata": {
    "tags": []
   },
   "outputs": [
    {
     "name": "stdout",
     "output_type": "stream",
     "text": [
      "93.84460105853213\n",
      "93.84\n"
     ]
    }
   ],
   "source": [
    "def sum_of_fractions(min,max):\n",
    "  summation = 0\n",
    "\n",
    "  for x in range(min,max+1):\n",
    "\n",
    "    summation += (x)/(max-(x-1))\n",
    "\n",
    "  return summation\n",
    "\n",
    "min = 1\n",
    "max = 30\n",
    "\n",
    "\n",
    "summation = sum_of_fractions(min,max)\n",
    "print(summation)\n",
    "\n",
    "print(round(summation,2))"
   ]
  },
  {
   "cell_type": "code",
   "execution_count": 12,
   "id": "4652248e-1262-43a1-b3c4-e7e8afe8116d",
   "metadata": {
    "tags": []
   },
   "outputs": [],
   "source": [
    "# Write a function that computes the area of a triangle given its base and height. The formula for an area of a triangle is: AREA = 1/2 * BASE * HEIGHT\n",
    "# For example, if the base was 5 and the height was 4, the area would be 10. triangle_area(5, 4)   # should print 10"
   ]
  },
  {
   "cell_type": "code",
   "execution_count": 16,
   "id": "ea9be490-c3ca-4edf-ad2c-00273d3a8a88",
   "metadata": {
    "tags": []
   },
   "outputs": [
    {
     "name": "stdout",
     "output_type": "stream",
     "text": [
      "A 5 by 4 triangle has an area of 10.0\n"
     ]
    },
    {
     "name": "stdin",
     "output_type": "stream",
     "text": [
      "Please enter the base of your triangle:  30\n",
      "Please enter the height of your triangle:  214\n"
     ]
    },
    {
     "name": "stdout",
     "output_type": "stream",
     "text": [
      "A 30.0 by 214.0 triangle has an area of 3210.0\n"
     ]
    }
   ],
   "source": [
    "def triangle_calc(base = 0,height = 0):\n",
    "    if base == 0 and height == 0:\n",
    "      base = float(input(\"Please enter the base of your triangle: \"))\n",
    "      height = float(input(\"Please enter the height of your triangle: \"))\n",
    "    area = (1/2)*base*height\n",
    "    print(f\"A {base} by {height} triangle has an area of {area}\")\n",
    "\n",
    "triangle_calc(5,4)\n",
    "triangle_calc()"
   ]
  }
 ],
 "metadata": {
  "kernelspec": {
   "display_name": "Python 3 (ipykernel)",
   "language": "python",
   "name": "python3"
  },
  "language_info": {
   "codemirror_mode": {
    "name": "ipython",
    "version": 3
   },
   "file_extension": ".py",
   "mimetype": "text/x-python",
   "name": "python",
   "nbconvert_exporter": "python",
   "pygments_lexer": "ipython3",
   "version": "3.11.4"
  }
 },
 "nbformat": 4,
 "nbformat_minor": 5
}
