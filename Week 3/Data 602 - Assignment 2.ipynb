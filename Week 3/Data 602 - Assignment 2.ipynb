{
 "cells": [
  {
   "cell_type": "code",
   "execution_count": 1,
   "id": "221c58cb-5a98-469b-bd5c-dde2cceaee38",
   "metadata": {
    "tags": []
   },
   "outputs": [],
   "source": [
    "# Shamecca Marshall"
   ]
  },
  {
   "cell_type": "code",
   "execution_count": 2,
   "id": "f097239d-d0c9-4c0c-b037-97b5306b6ff2",
   "metadata": {},
   "outputs": [],
   "source": [
    "# Data 602 - Assignment 2"
   ]
  },
  {
   "cell_type": "code",
   "execution_count": 3,
   "id": "e264ce5f-e420-41de-aa10-ef20212f6a69",
   "metadata": {},
   "outputs": [],
   "source": [
    "# Understanding Python Native Data Structures"
   ]
  },
  {
   "cell_type": "code",
   "execution_count": 4,
   "id": "d0271cda-e284-4d2a-b91e-1adc70c0604f",
   "metadata": {},
   "outputs": [],
   "source": [
    "# 1. Can you debug and fix the output? The code should return the entire list"
   ]
  },
  {
   "cell_type": "code",
   "execution_count": 5,
   "id": "cc6c9f20-a217-4bd6-a98e-04589ea46cc0",
   "metadata": {},
   "outputs": [],
   "source": [
    "numbers = ['1', '2', '3', '4', '5']"
   ]
  },
  {
   "cell_type": "code",
   "execution_count": 6,
   "id": "95e67ccc-e525-432c-aa5c-48d5f9e03407",
   "metadata": {},
   "outputs": [
    {
     "name": "stdout",
     "output_type": "stream",
     "text": [
      "['1', '2', '3', '4', '5']\n"
     ]
    }
   ],
   "source": [
    "print(numbers)"
   ]
  },
  {
   "cell_type": "code",
   "execution_count": 7,
   "id": "93481045-1f68-4241-b8ff-bc20ebefee3c",
   "metadata": {},
   "outputs": [
    {
     "name": "stdout",
     "output_type": "stream",
     "text": [
      "['1', '2', '3', '4', '5']\n"
     ]
    }
   ],
   "source": [
    "print(numbers[-5:])"
   ]
  },
  {
   "cell_type": "code",
   "execution_count": 8,
   "id": "1177feab-48fc-41f3-939f-de93f15cd6bf",
   "metadata": {},
   "outputs": [],
   "source": [
    "## 2. Design a program that asks the user to enter a store’s sales for each day of the week. The amounts should be stored in a list. Use a loop to calculate the total sales for the week and display the result."
   ]
  },
  {
   "cell_type": "code",
   "execution_count": 9,
   "id": "be24ba44-c876-4602-81a7-cfb9171a643b",
   "metadata": {},
   "outputs": [
    {
     "name": "stdout",
     "output_type": "stream",
     "text": [
      "Enter the sales for S: 550\n",
      "Enter the sales for M: 576\n",
      "Enter the sales for T: 884\n",
      "Enter the sales for W: 583\n",
      "Enter the sales for T: 947\n",
      "Enter the sales for F: 1894\n",
      "Enter the sales for S: 1947\n"
     ]
    }
   ],
   "source": [
    "sales = [int(input(f\"Enter the sales for {day}: \")) for day in \"SMTWTFS\"]"
   ]
  },
  {
   "cell_type": "code",
   "execution_count": 10,
   "id": "b83a7891-70e0-405a-bfa7-64c04d37b1ed",
   "metadata": {},
   "outputs": [
    {
     "data": {
      "text/plain": [
       "7381"
      ]
     },
     "execution_count": 10,
     "metadata": {},
     "output_type": "execute_result"
    }
   ],
   "source": [
    "sum(sales)"
   ]
  },
  {
   "cell_type": "markdown",
   "id": "d6538580",
   "metadata": {},
   "source": [
    "##### 3. Create a list with at least 5 places you’d like to travel to. Make sure the list isn’t in alphabetical order"
   ]
  },
  {
   "cell_type": "code",
   "execution_count": 12,
   "id": "09863717-c689-4d02-a131-3467cc0b2fc6",
   "metadata": {},
   "outputs": [],
   "source": [
    "locations = ['Jamaica', 'Japan', 'Bali', 'Dubai', 'Cuba']"
   ]
  },
  {
   "cell_type": "code",
   "execution_count": 13,
   "id": "a939658f-c65b-432c-84ac-223466dd603b",
   "metadata": {},
   "outputs": [],
   "source": [
    "## Original Order"
   ]
  },
  {
   "cell_type": "code",
   "execution_count": 14,
   "id": "b56e5685-f839-4f95-ac06-ba58677b4683",
   "metadata": {},
   "outputs": [
    {
     "name": "stdout",
     "output_type": "stream",
     "text": [
      "Original order:\n",
      "['Jamaica', 'Japan', 'Bali', 'Dubai', 'Cuba']\n"
     ]
    }
   ],
   "source": [
    "print(\"Original order:\")\n",
    "print(locations)"
   ]
  },
  {
   "cell_type": "code",
   "execution_count": 15,
   "id": "84d2b210-4556-4f0c-9cfc-241bb9962a85",
   "metadata": {},
   "outputs": [],
   "source": [
    "## Use the sort() function to arrange your list in order and reprint your list."
   ]
  },
  {
   "cell_type": "code",
   "execution_count": 16,
   "id": "b39320f7-3ab2-4691-a143-ca1c97fc4c2a",
   "metadata": {},
   "outputs": [
    {
     "name": "stdout",
     "output_type": "stream",
     "text": [
      "['Bali', 'Cuba', 'Dubai', 'Jamaica', 'Japan']\n"
     ]
    }
   ],
   "source": [
    "print(sorted(locations))"
   ]
  },
  {
   "cell_type": "code",
   "execution_count": 17,
   "id": "6bd4333a-8398-46a4-a727-3800087f6d6a",
   "metadata": {},
   "outputs": [],
   "source": [
    "## Use the sort(reverse=True) and reprint your list."
   ]
  },
  {
   "cell_type": "code",
   "execution_count": 18,
   "id": "a7712032-7bc0-4b7a-a248-9f7ee40a476f",
   "metadata": {},
   "outputs": [
    {
     "name": "stdout",
     "output_type": "stream",
     "text": [
      "['Japan', 'Jamaica', 'Dubai', 'Cuba', 'Bali']\n"
     ]
    }
   ],
   "source": [
    "print(sorted(locations, reverse=True))"
   ]
  },
  {
   "cell_type": "code",
   "execution_count": 19,
   "id": "f1cb55fe-1611-48f2-9a5e-7a2a450fc8a4",
   "metadata": {},
   "outputs": [],
   "source": [
    "## 4. Write a program that creates a dictionary containing course numbers and the room numbers of the rooms where the courses meet. The program should also create a dictionary containing course numbers and the names of the instructors that teach each course. After that, the program should let the user enter a course number, then it should display the course’s room number, instructor, and meeting time."
   ]
  },
  {
   "cell_type": "code",
   "execution_count": 20,
   "id": "34fe4dd7-17ae-4094-b60c-2b70e832bf0a",
   "metadata": {},
   "outputs": [],
   "source": [
    "# Create dictionary of course numbers and room numbers"
   ]
  },
  {
   "cell_type": "code",
   "execution_count": 21,
   "id": "8c8c9ede-819a-4024-9b14-f8119be8f9ce",
   "metadata": {},
   "outputs": [],
   "source": [
    "room_dict = {\n",
    "    'Data602': '2014',\n",
    "    'Data607': '1130',\n",
    "    'Data606': '1215',\n",
    "}"
   ]
  },
  {
   "cell_type": "code",
   "execution_count": 22,
   "id": "1de5b61a-fc71-4be5-8b92-ebf299214118",
   "metadata": {},
   "outputs": [],
   "source": [
    "# Create dictionary of course numbers and instructors"
   ]
  },
  {
   "cell_type": "code",
   "execution_count": 23,
   "id": "7360780f-fa72-4cdd-bf97-1052a51268a7",
   "metadata": {},
   "outputs": [],
   "source": [
    "instructor_dict = {\n",
    "    'Data602': 'Nicholas Schettini',\n",
    "    'Data607': 'Peter Kowalchuk',\n",
    "    'Data606': 'Jason Bryer',\n",
    "}"
   ]
  },
  {
   "cell_type": "code",
   "execution_count": 24,
   "id": "dcc218ff-cef5-4bab-8227-d28b81da7ce7",
   "metadata": {},
   "outputs": [],
   "source": [
    "# Create dictionary of course numbers and meeting times"
   ]
  },
  {
   "cell_type": "code",
   "execution_count": 25,
   "id": "08ba2a3c-f94d-4896-a5f6-cab9121eb32f",
   "metadata": {},
   "outputs": [],
   "source": [
    "meeting_dict = {\n",
    "    'Data602': 'Thursday 6:00pm',\n",
    "    'Data607': 'Wednesday 7:00pm',\n",
    "    'Data606': 'Wednesday 8:00pm',\n",
    "}"
   ]
  },
  {
   "cell_type": "code",
   "execution_count": 26,
   "id": "cf851353-04b5-431b-9b2a-63d17a08f15b",
   "metadata": {},
   "outputs": [],
   "source": [
    "# 5. Write a program that keeps names and email addresses in a dictionary as key-value pairs. The program should then demonstrate the four options:\n",
    "# ● lookup email address,\n",
    "# ● add a new name and email address,\n",
    "# ● change an existing email address, and\n",
    "# ● delete an existing name and email address"
   ]
  },
  {
   "cell_type": "code",
   "execution_count": 27,
   "id": "14c84841-8ddd-4ffb-8e5e-0e0ca5cb30fa",
   "metadata": {
    "tags": []
   },
   "outputs": [],
   "source": [
    "def displayMenu():\n",
    "    print()\n",
    "    print(\"1) Look up email address\")\n",
    "    print(\"2) Add a name and email address\")\n",
    "    print(\"3) Change email address\")\n",
    "    print(\"4) Delete name and email address\")\n",
    "    print(\"5) End program\")\n",
    "    print()"
   ]
  },
  {
   "cell_type": "code",
   "execution_count": 28,
   "id": "e49932f9-42df-42a9-914e-e4e5f088bb68",
   "metadata": {},
   "outputs": [
    {
     "name": "stdout",
     "output_type": "stream",
     "text": [
      "\n",
      "1) Look up email address\n",
      "2) Add a name and email address\n",
      "3) Change email address\n",
      "4) Delete name and email address\n",
      "5) End program\n",
      "\n",
      "Enter your selection (1-5): 1\n",
      "Look up email address:\n",
      "Name: Teyana Taylor\n",
      "Teyana Taylor was not found\n",
      "Enter your selection (1-5): 2\n",
      "Add a name and email address\n",
      "Name: Teyana Taylor\n",
      "Email: Teyanataylor@spiketee.com\n",
      "Enter your selection (1-5): 3\n",
      "Change email address\n",
      "Name: Teyana Taylor\n",
      "Enter the new address: Teyanataylor@theauntiesinc.com\n",
      "Enter your selection (1-5): 4\n",
      "Delete name and email address\n",
      "Name: Teyana Taylor\n",
      "Enter your selection (1-5): 5\n"
     ]
    }
   ],
   "source": [
    "emailaddress = {}\n",
    "choice = 0\n",
    "displayMenu()\n",
    "while choice != 5:\n",
    "    choice = int(input(\"Enter your selection (1-5): \"))\n",
    "\n",
    "    if choice == 1:\n",
    "        print(\"Look up email address:\")\n",
    "        name = input(\"Name: \")\n",
    "        if name in emailaddress:\n",
    "            print(\"The email address is\", emailaddress[name])\n",
    "        else:\n",
    "            print(name, \"was not found\")\n",
    "    elif choice == 2:\n",
    "        print(\"Add a name and email address\")\n",
    "        name = input(\"Name: \")\n",
    "        email = input(\"Email: \")\n",
    "        emailaddress[name] = email\n",
    "    elif choice == 3:\n",
    "        print(\"Change email address\")\n",
    "        name = input(\"Name: \")\n",
    "        if name in emailaddress:\n",
    "            email = input(\"Enter the new address: \")\n",
    "            emailaddress[name] = email\n",
    "        else:\n",
    "            print(name, \"was not found\")\n",
    "    elif choice == 4:\n",
    "        print(\"Delete name and email address\")\n",
    "        name = input(\"Name: \")\n",
    "        if name in emailaddress:\n",
    "            del emailaddress[name]\n",
    "        else:\n",
    "            print(name, \"was not found\")          \n",
    "    elif choice != 5:\n",
    "        print(\"Enter a valid selection\")\n",
    "        displayMenu()"
   ]
  }
 ],
 "metadata": {
  "kernelspec": {
   "display_name": "Python 3 (ipykernel)",
   "language": "python",
   "name": "python3"
  },
  "language_info": {
   "codemirror_mode": {
    "name": "ipython",
    "version": 3
   },
   "file_extension": ".py",
   "mimetype": "text/x-python",
   "name": "python",
   "nbconvert_exporter": "python",
   "pygments_lexer": "ipython3",
   "version": "3.11.4"
  }
 },
 "nbformat": 4,
 "nbformat_minor": 5
}
